{
 "cells": [
  {
   "cell_type": "code",
   "execution_count": 1,
   "metadata": {
    "collapsed": true
   },
   "outputs": [],
   "source": [
    "# coding:utf-8\n",
    "%matplotlib inline\n",
    "import matplotlib.pyplot as plt\n",
    "import numpy as np\n",
    "from sklearn.datasets import fetch_mldata\n",
    "from chainer import cuda, Variable, FunctionSet, optimizers\n",
    "import chainer.functions  as F\n",
    "import sys"
   ]
  },
  {
   "cell_type": "code",
   "execution_count": 3,
   "metadata": {
    "collapsed": false
   },
   "outputs": [
    {
     "name": "stdout",
     "output_type": "stream",
     "text": [
      "[[  -1 -256]\n",
      " [-256   -1]]\n"
     ]
    }
   ],
   "source": [
    "W=[]\n",
    "w1=np.array([[10,2],[3,4],[5,6]],dtype=np.float64)\n",
    "w2=np.array([[1,2,3],[4,5,6],[7,8,9],[10,11,12],[13,14,15]]).astype(np.float64)\n",
    "w3=np.array([[1,2,3,4,5,6,7,8,9,10],[11,12,13,14,15,16,17,18,19,20]])\n",
    "w4=np.array([[1,2,3],[4,5,6],[7,8,9],[10,11,12]])\n",
    "W.append(w1)\n",
    "W.append(w2)\n",
    "W.append(w3)\n",
    "\n",
    "x =np.array([0.12345678901234567890123456789012345678901234567890])\n",
    "\n",
    "W2=np.array([w1,w2,w3])\n",
    "\n",
    "a,b,c,d=np.split(w4,4)\n",
    "a,b= np.hsplit(w3,[3])\n",
    "a,b,c,d=np.hsplit(w3,[1,4,7])\n",
    "a,b,c= np.hsplit(w3,[6,9])\n",
    "\n",
    "#print w4.size\n",
    "w4.reshape(6,2)\n",
    "\n",
    "#反転\n",
    "W3 = w2[::-1,::-1] \n",
    "\n",
    "#重複なしの組み合わせ\n",
    "a=np.array([1,2,3,4,5])\n",
    "b=np.array([6,7,8])\n",
    "c,d =  np.meshgrid(a,b)\n",
    "c1 = c.ravel()\n",
    "d1= d.ravel()\n",
    "cd=np.c_[c1,d1]\n",
    "w1 = np.array([[0,255],[255,0]])\n",
    "\n",
    "print ~w1\n"
   ]
  },
  {
   "cell_type": "code",
   "execution_count": 4,
   "metadata": {
    "collapsed": false
   },
   "outputs": [
    {
     "name": "stdout",
     "output_type": "stream",
     "text": [
      "[ 8 14 15 19  3]\n",
      "[[24 25 26]\n",
      " [42 43 44]\n",
      " [45 46 47]\n",
      " [57 58 59]\n",
      " [ 9 10 11]]\n"
     ]
    }
   ],
   "source": [
    "perm = np.random.permutation(20)\n",
    "\n",
    "x = np.arange(60)\n",
    "x =x.reshape(20,3)\n",
    "\n",
    "print perm[0:5]\n",
    "print x[perm[0:5]]\n",
    "\n",
    "\n",
    "\n",
    "batchsize = 5\n",
    "\n",
    "   "
   ]
  },
  {
   "cell_type": "code",
   "execution_count": 5,
   "metadata": {
    "collapsed": false
   },
   "outputs": [
    {
     "name": "stdout",
     "output_type": "stream",
     "text": [
      "[0 0]\n",
      "[1 1 2 2 3 3 4 4 5 5]\n"
     ]
    }
   ],
   "source": [
    "label = np.array([0,0,1,1,2,2,3,3,4,4,5,5])\n",
    "label_train,label_test ,notUse= np.split(label,[2,30])\n",
    "print label_train\n",
    "print label_test"
   ]
  },
  {
   "cell_type": "code",
   "execution_count": 6,
   "metadata": {
    "collapsed": false
   },
   "outputs": [
    {
     "name": "stdout",
     "output_type": "stream",
     "text": [
      "[[ 1  2]\n",
      " [ 3  4]\n",
      " [ 5  6]\n",
      " [ 7  8]\n",
      " [ 9 10]\n",
      " [11 12]] \n",
      "\n",
      "[[ 1  2  7  8]\n",
      " [ 3  4  9 10]\n",
      " [ 5  6 11 12]] \n",
      "\n",
      "[[ 1  2]\n",
      " [ 3  4]\n",
      " [ 5  6]\n",
      " [ 7  8]\n",
      " [ 9 10]\n",
      " [11 12]] \n",
      "\n",
      "[[ 1  2  7  8]\n",
      " [ 3  4  9 10]\n",
      " [ 5  6 11 12]] \n",
      "\n"
     ]
    }
   ],
   "source": [
    "a = (np.arange(6)+1).reshape(3,2)\n",
    "b = (np.arange(6)+7).reshape(3,2)\n",
    "c = np.vstack((a,b))\n",
    "d = np.hstack((a,b))\n",
    "e = np.r_[a,b]\n",
    "f = np.c_[a,b]\n",
    "\n",
    "print c,\"\\n\"\n",
    "print d,\"\\n\"\n",
    "print e,\"\\n\"\n",
    "print f,\"\\n\""
   ]
  },
  {
   "cell_type": "code",
   "execution_count": 7,
   "metadata": {
    "collapsed": false
   },
   "outputs": [
    {
     "data": {
      "text/plain": [
       "<matplotlib.image.AxesImage at 0x98995c0>"
      ]
     },
     "execution_count": 7,
     "metadata": {},
     "output_type": "execute_result"
    },
    {
     "data": {
      "image/png": "[encoded data removed]",
      "text/plain": [
       "<matplotlib.figure.Figure at 0x97ac630>"
      ]
     },
     "metadata": {},
     "output_type": "display_data"
    }
   ],
   "source": [
    "e = np.eye(3)\n",
    "plt.imshow(e)"
   ]
  },
  {
   "cell_type": "code",
   "execution_count": 8,
   "metadata": {
    "collapsed": false
   },
   "outputs": [
    {
     "data": {
      "text/plain": [
       "<matplotlib.image.AxesImage at 0x9ab1588>"
      ]
     },
     "execution_count": 8,
     "metadata": {},
     "output_type": "execute_result"
    },
    {
     "data": {
      "image/png": "[encoded data removed]",
      "text/plain": [
       "<matplotlib.figure.Figure at 0x97ac550>"
      ]
     },
     "metadata": {},
     "output_type": "display_data"
    }
   ],
   "source": [
    "plt.imshow(e , interpolation=\"none\")"
   ]
  },
  {
   "cell_type": "code",
   "execution_count": 9,
   "metadata": {
    "collapsed": false
   },
   "outputs": [
    {
     "data": {
      "text/plain": [
       "<matplotlib.collections.PolyCollection at 0x9d47160>"
      ]
     },
     "execution_count": 9,
     "metadata": {},
     "output_type": "execute_result"
    },
    {
     "data": {
      "image/png": "[encoded data removed]",
      "text/plain": [
       "<matplotlib.figure.Figure at 0x99854e0>"
      ]
     },
     "metadata": {},
     "output_type": "display_data"
    }
   ],
   "source": [
    "e = e[::-1,:]\n",
    "plt.pcolor(e)"
   ]
  },
  {
   "cell_type": "code",
   "execution_count": 10,
   "metadata": {
    "collapsed": false
   },
   "outputs": [
    {
     "name": "stdout",
     "output_type": "stream",
     "text": [
      "[[ 1  2  3  4  5  6  7  8  9 10 11 12 13 14 15]\n",
      " [16 17 18 19 20 21 22 23 24 25 26 27 28 29 30]]\n",
      "(array([15, 16, 17, 18, 19, 20, 21, 22, 23, 24, 25, 26, 27, 28, 29], dtype=int64),)\n"
     ]
    }
   ],
   "source": [
    "a = np.arange(30)+1\n",
    "a1 = a.reshape(2,15)\n",
    "a2 = a.reshape(3,2,5)\n",
    "\n",
    "a3 = a2.transpose(1,2,0)\n",
    "print a1\n",
    "print np.where(a>15)\n"
   ]
  },
  {
   "cell_type": "code",
   "execution_count": 11,
   "metadata": {
    "collapsed": false
   },
   "outputs": [
    {
     "data": {
      "text/plain": [
       "<function close>"
      ]
     },
     "execution_count": 11,
     "metadata": {},
     "output_type": "execute_result"
    }
   ],
   "source": [
    "fo =open('f.txt','w')\n",
    "fo.write('okuyama\\ntakahumi\\n20yearsold!!')\n",
    "fo.flush()\n",
    "fo.close"
   ]
  },
  {
   "cell_type": "code",
   "execution_count": 12,
   "metadata": {
    "collapsed": false
   },
   "outputs": [
    {
     "name": "stdout",
     "output_type": "stream",
     "text": [
      "okuyama\n",
      "takahumi\n",
      "abcdefg\n",
      "example\n"
     ]
    }
   ],
   "source": [
    "fo = open('f.txt','r')\n",
    "list = fo.readline()\n",
    "list2 = fo.readline()\n",
    "print list.strip()\n",
    "print list2.strip()\n",
    "print 'abcdefg'.strip('bdf')\n",
    "print 'www.example.com'.strip('cmowz.')"
   ]
  },
  {
   "cell_type": "code",
   "execution_count": 13,
   "metadata": {
    "collapsed": false
   },
   "outputs": [
    {
     "data": {
      "text/plain": [
       "<function close>"
      ]
     },
     "execution_count": 13,
     "metadata": {},
     "output_type": "execute_result"
    }
   ],
   "source": [
    "f1 =open('f.txt','a')\n",
    "f1.write('\\nChinchin')\n",
    "f1.flush()\n",
    "f1.close"
   ]
  },
  {
   "cell_type": "code",
   "execution_count": 14,
   "metadata": {
    "collapsed": false
   },
   "outputs": [
    {
     "name": "stdout",
     "output_type": "stream",
     "text": [
      "[ 2 20]\n",
      "[4 7]\n",
      "[  5.   0.  27.  28.  25.]\n"
     ]
    }
   ],
   "source": [
    "AreaArray = np.zeros((5))    \n",
    "contours = np.array([[1,5],[2,20],[9,3],[4,7],[5,5]])\n",
    "i=0                    \n",
    "for cnt in contours:\n",
    "        AreaArray[i]=cnt[0]*cnt[1]\n",
    "        i+=1\n",
    "\n",
    "max_cnt=contours[AreaArray.argmax()]\n",
    "AreaArray[AreaArray.argmax()]=0\n",
    "second_max_cnt=contours[AreaArray.argmax()]\n",
    "print max_cnt\n",
    "print second_max_cnt\n",
    "print AreaArray"
   ]
  },
  {
   "cell_type": "code",
   "execution_count": 15,
   "metadata": {
    "collapsed": false,
    "scrolled": true
   },
   "outputs": [
    {
     "name": "stderr",
     "output_type": "stream",
     "text": [
      "C:\\Anaconda2\\lib\\site-packages\\ipykernel\\__main__.py:5: VisibleDeprecationWarning: using a non-integer number instead of an integer will result in an error in the future\n",
      "C:\\Anaconda2\\lib\\site-packages\\ipykernel\\__main__.py:6: VisibleDeprecationWarning: using a non-integer number instead of an integer will result in an error in the future\n",
      "C:\\Anaconda2\\lib\\site-packages\\ipykernel\\__main__.py:8: VisibleDeprecationWarning: using a non-integer number instead of an integer will result in an error in the future\n",
      "C:\\Anaconda2\\lib\\site-packages\\ipykernel\\__main__.py:9: VisibleDeprecationWarning: using a non-integer number instead of an integer will result in an error in the future\n",
      "C:\\Anaconda2\\lib\\site-packages\\ipykernel\\__main__.py:22: VisibleDeprecationWarning: using a non-integer number instead of an integer will result in an error in the future\n",
      "C:\\Anaconda2\\lib\\site-packages\\ipykernel\\__main__.py:23: VisibleDeprecationWarning: using a non-integer number instead of an integer will result in an error in the future\n",
      "C:\\Anaconda2\\lib\\site-packages\\ipykernel\\__main__.py:26: VisibleDeprecationWarning: using a non-integer number instead of an integer will result in an error in the future\n"
     ]
    }
   ],
   "source": [
    "N=8\n",
    "height = 5.0\n",
    "width = 4.0\n",
    "for i in range(4):\n",
    "    Before = (np.arange(height*width*3)*(i+1)).reshape(height,width,3)\n",
    "    After = ((np.arange(height*width*3)+1)*(i+1)).reshape(height,width,3)\n",
    "    #print Before\n",
    "    Before = Before.reshape(height*width*3)\n",
    "    After = After.reshape(height*width*3)\n",
    "    #Before = Before.transpose(2,0,1)\n",
    "    Before = np.hstack((Before,np.array([0.0])))\n",
    "    After = np.hstack((After,np.array([1.0])))\n",
    "    #print Before\n",
    "    #print After\n",
    "    BeforeAfter=np.vstack((Before,After))\n",
    "    if i == 0:\n",
    "        dataset = BeforeAfter\n",
    "    elif i >= 1:\n",
    "        dataset = np.vstack((dataset,BeforeAfter))\n",
    "\n",
    "np.random.shuffle(dataset)\n",
    "x = dataset[:,:height*width*3]\n",
    "label = dataset[:,height*width*3:]\n",
    "\n",
    "label = label.ravel()\n",
    "x = x.reshape(N,height,width,3)\n",
    "\n",
    "#print dataset\n",
    "#print\"\\n\\n\""
   ]
  },
  {
   "cell_type": "code",
   "execution_count": 41,
   "metadata": {
    "collapsed": false
   },
   "outputs": [
    {
     "name": "stdout",
     "output_type": "stream",
     "text": [
      "[[ 1.  1.  1.  1.  1.  0.]\n",
      " [ 1.  1.  1.  1.  1.  0.]\n",
      " [ 1.  1.  1.  1.  1.  0.]\n",
      " [ 1.  1.  1.  1.  1.  0.]]\n"
     ]
    },
    {
     "name": "stderr",
     "output_type": "stream",
     "text": [
      "C:\\Anaconda2\\lib\\site-packages\\ipykernel\\__main__.py:2: VisibleDeprecationWarning: using a non-integer number instead of an integer will result in an error in the future\n",
      "  from ipykernel import kernelapp as app\n",
      "C:\\Anaconda2\\lib\\site-packages\\ipykernel\\__main__.py:3: VisibleDeprecationWarning: using a non-integer number instead of an integer will result in an error in the future\n",
      "  app.launch_new_instance()\n",
      "C:\\Anaconda2\\lib\\site-packages\\ipykernel\\__main__.py:4: VisibleDeprecationWarning: using a non-integer number instead of an integer will result in an error in the future\n"
     ]
    }
   ],
   "source": [
    "N=2\n",
    "Before = (np.arange(height*width*3)*(i+1)).reshape(height,width,3)\n",
    "After = ((np.arange(height*width*3)+1)*(i+1)).reshape(height,width,3)\n",
    "dataset = np.zeros((N,height,width,3))\n",
    "\n",
    "a = np.ones((4,5))\n",
    "b = np.zeros(4)\n",
    "c=np.column_stack((a,b))\n",
    "\n",
    "print c"
   ]
  },
  {
   "cell_type": "code",
   "execution_count": 8,
   "metadata": {
    "collapsed": false
   },
   "outputs": [
    {
     "name": "stdout",
     "output_type": "stream",
     "text": [
      "[10 10 10]\n",
      "[10 10 10]\n"
     ]
    }
   ],
   "source": [
    "N1=np.array([10,10,10])\n",
    "N2=np.zeros((3),dtype=np.int32)+10\n",
    "print N1\n",
    "print N2\n",
    "\n"
   ]
  },
  {
   "cell_type": "code",
   "execution_count": 4,
   "metadata": {
    "collapsed": false
   },
   "outputs": [
    {
     "name": "stdout",
     "output_type": "stream",
     "text": [
      "(3L, 2L, 4L)\n"
     ]
    }
   ],
   "source": [
    "a = ((np.arange(24)+1).reshape(2,4,3))\n",
    "#print a,\"\\n\\n\"\n",
    "b = ((np.arange(24)+25).reshape(2,4,3))\n",
    "#print b,\"\\n\\n\"\n",
    "c1 = np.vstack((a,b))\n",
    "#print c1,\"\\n\\n\"\n",
    "#print c1.shape,\"\\n\\n\"\n",
    "\n",
    "\n",
    "a = ((np.arange(24)+1).reshape(2,12))\n",
    "b = ((np.arange(24)+25).reshape(2,12))\n",
    "c2 = np.vstack((a,b))\n",
    "c2=c2.reshape(4,4,3)\n",
    "#print c2,\"\\n\\n\"\n",
    "#print c2.shape,\"\\n\\n\"\n",
    "\n",
    "x = ((np.arange(12)+2).reshape(4,3))\n",
    "\n",
    "\n",
    "if x not in c1:\n",
    "    c3 = np.vstack((c1[-1],x))\n",
    "#print c1\n",
    "#print x.shape\n",
    "#print len(a)\n",
    "a = ((np.arange(24)+1).reshape(2,4,3))\n",
    "print a.transpose(2,0,1).shape"
   ]
  },
  {
   "cell_type": "code",
   "execution_count": 22,
   "metadata": {
    "collapsed": false
   },
   "outputs": [
    {
     "name": "stdout",
     "output_type": "stream",
     "text": [
      "[ 0.  0.  0.  0.  5.  5.  5.  5.]\n"
     ]
    }
   ],
   "source": [
    "label1=np.zeros((4))\n",
    "label2=np.zeros((4))+5\n",
    "label3 = np.hstack((label1,label2))\n",
    "print label3"
   ]
  },
  {
   "cell_type": "code",
   "execution_count": 18,
   "metadata": {
    "collapsed": false
   },
   "outputs": [
    {
     "name": "stdout",
     "output_type": "stream",
     "text": [
      "[[  1.   2.   3.   0.]\n",
      " [  4.   5.   6.   0.]\n",
      " [  7.   8.   9.   0.]\n",
      " [ 10.  11.  12.   0.]]\n"
     ]
    }
   ],
   "source": [
    "dataset_label = np.column_stack((c1[0],label1))\n",
    "print dataset_label"
   ]
  },
  {
   "cell_type": "code",
   "execution_count": null,
   "metadata": {
    "collapsed": true
   },
   "outputs": [],
   "source": []
  }
 ],
 "metadata": {
  "anaconda-cloud": {},
  "kernelspec": {
   "display_name": "Python [default]",
   "language": "python",
   "name": "python2"
  },
  "language_info": {
   "codemirror_mode": {
    "name": "ipython",
    "version": 2
   },
   "file_extension": ".py",
   "mimetype": "text/x-python",
   "name": "python",
   "nbconvert_exporter": "python",
   "pygments_lexer": "ipython2",
   "version": "2.7.12"
  }
 },
 "nbformat": 4,
 "nbformat_minor": 0
}
