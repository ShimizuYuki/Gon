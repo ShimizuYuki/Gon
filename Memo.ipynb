{
 "cells": [
  {
   "cell_type": "code",
   "execution_count": 1,
   "metadata": {
    "collapsed": false
   },
   "outputs": [
    {
     "name": "stdout",
     "output_type": "stream",
     "text": [
      "Populating the interactive namespace from numpy and matplotlib\n"
     ]
    }
   ],
   "source": [
    "# coding:utf-8\n",
    "%pylab inline\n",
    "import matplotlib.pyplot as plt\n",
    "import numpy as np\n",
    "from sklearn.datasets import fetch_mldata\n",
    "from chainer import cuda, Variable, FunctionSet,\\\n",
    "     optimizers,Chain,serializers\n",
    "import chainer.functions  as F\n",
    "import sys\n",
    "\n",
    "import time\n",
    "import datetime\n",
    "\n",
    "\n",
    "import cv2\n",
    "\n",
    "import os\n",
    "\n",
    "\n",
    "#np.random.seed(0)"
   ]
  },
  {
   "cell_type": "code",
   "execution_count": 29,
   "metadata": {
    "collapsed": false
   },
   "outputs": [
    {
     "name": "stdout",
     "output_type": "stream",
     "text": [
      "サイズがあってないで！！！\n",
      "type:<type 'exceptions.IndexError'>\n",
      "args:('list index out of range',)\n",
      "message:list index out of range\n",
      "list index out of range\n",
      "続行！！\n",
      "bの中身 :  [0, 1, 2, 3]\n"
     ]
    },
    {
     "name": "stderr",
     "output_type": "stream",
     "text": [
      "/Users/okuyamatakashi/.pyenv/versions/anaconda-4.0.0/envs/python2/lib/python2.7/site-packages/ipykernel/__main__.py:14: DeprecationWarning: BaseException.message has been deprecated as of Python 2.6\n"
     ]
    }
   ],
   "source": [
    "def unko():\n",
    "    try:\n",
    "        A = range(4)\n",
    "        a=[]\n",
    "        i=0     \n",
    "        while True:\n",
    "            a.append(A[i])\n",
    "            i+=1\n",
    "    \n",
    "    except IndexError as e:\n",
    "        print(\"サイズがあってないで！！！\")\n",
    "        print(\"type:{0}\".format(type(e)))\n",
    "        print(\"args:{0}\".format(e.args))\n",
    "        print(\"message:{0}\".format(e.message))\n",
    "        print(\"{0}\".format(e))\n",
    "    \n",
    "\n",
    "    except (TypeError) :\n",
    "        print('ファイルが開けませんでした')\n",
    "\n",
    "    except  :\n",
    "        print('読み込み完了！！\\n')\n",
    "\n",
    "    finally:\n",
    "        return a\n",
    "\n",
    "b = unko()\n",
    "print '続行！！'\n",
    "print 'bの中身 : ',b\n",
    "\n",
    "\n"
   ]
  },
  {
   "cell_type": "code",
   "execution_count": 57,
   "metadata": {
    "collapsed": false
   },
   "outputs": [
    {
     "name": "stdout",
     "output_type": "stream",
     "text": [
      "------------varの実験----------\n",
      "var1= 30\n",
      "var2= 25 \n",
      "\n",
      "------------listの実験----------\n",
      "list1= [1, 2, 3]\n",
      "list2= [1, 2, 3]\n",
      "list3= [1, 2] \n",
      "\n",
      "------------arrayの実験----------\n",
      "array1= [[[ 6  7  8  9]\n",
      "  [10 11 12 13]]\n",
      "\n",
      " [[14 15 16 17]\n",
      "  [18 19 20 21]]\n",
      "\n",
      " [[22 23 24 25]\n",
      "  [26 27 28 29]]] \n",
      "\n",
      "array2= [[[ 6  7  8  9]\n",
      "  [10 11 12 13]]\n",
      "\n",
      " [[14 15 16 17]\n",
      "  [18 19 20 21]]\n",
      "\n",
      " [[22 23 24 25]\n",
      "  [26 27 28 29]]] \n",
      "\n",
      "array1= [[[ 6  7  8  9]\n",
      "  [10 11 12 13]]\n",
      "\n",
      " [[14 15 16 17]\n",
      "  [18 19 20 21]]\n",
      "\n",
      " [[22 23 24 25]\n",
      "  [26 27 28 29]]] \n",
      "\n",
      "array2= [[[ 1  2  3  4]\n",
      "  [ 5  6  7  8]]\n",
      "\n",
      " [[ 9 10 11 12]\n",
      "  [13 14 15 16]]\n",
      "\n",
      " [[17 18 19 20]\n",
      "  [21 22 23 24]]] \n",
      "\n",
      "array1のshape= (3, 2, 4) \n",
      "\n",
      "array2の=shape (3, 2, 4) \n",
      "\n"
     ]
    }
   ],
   "source": [
    "print \"------------varの実験----------\"\n",
    "var1 = 25\n",
    "var2 = var1\n",
    "var1 = 30\n",
    "print \"var1=\",var1    # 30\n",
    "print \"var2=\",var2 ,\"\\n\"\n",
    "\n",
    "print \"------------listの実験----------\"\n",
    "list1 = [1, 2]\n",
    "list2 = list1\n",
    "list3 = [0]*len(list1)\n",
    "list3[:]=list1[:]\n",
    "list1.append(3)\n",
    "print \"list1=\",list1\n",
    "print \"list2=\",list2\n",
    "print \"list3=\",list3,\"\\n\"\n",
    "\n",
    "print \"------------arrayの実験----------\"\n",
    "array1 = np.array(np.arange(1,25).reshape(3,2,4))\n",
    "array2 = array1\n",
    "array1 +=5\n",
    "print \"array1=\",array1,\"\\n\"\n",
    "print \"array2=\",array2,\"\\n\"\n",
    "\n",
    "array1 = np.array(np.arange(1,25).reshape(3,2,4))\n",
    "array2 = np.zeros_like(array1)\n",
    "array2[:]=array1[:]\n",
    "array1 +=5\n",
    "print \"array1=\",array1,\"\\n\"\n",
    "print \"array2=\",array2,\"\\n\"\n",
    "\n",
    "print \"array1のshape=\",array1.shape,\"\\n\"\n",
    "print \"array2の=shape\",array2.shape,\"\\n\""
   ]
  },
  {
   "cell_type": "code",
   "execution_count": 70,
   "metadata": {
    "collapsed": false
   },
   "outputs": [
    {
     "name": "stdout",
     "output_type": "stream",
     "text": [
      "2016-10-24\n",
      "<type 'datetime.time'>\n",
      "2016-10-24 14:32:15.142692\n",
      "This is 4-061682\n",
      "4-0618\n"
     ]
    }
   ],
   "source": [
    "print datetime.date.today()\n",
    "print datetime.datetime.now()\n",
    "print 'This is %s'%(str(time.clock()).replace('.','-',1))\n",
    "print str(time.clock()).replace('.','-',1)\n",
    "#print str(time.time())"
   ]
  },
  {
   "cell_type": "code",
   "execution_count": 111,
   "metadata": {
    "collapsed": false
   },
   "outputs": [
    {
     "name": "stdout",
     "output_type": "stream",
     "text": [
      "Before1.jpeg\n",
      "Before10.jpg\n",
      "Before100.jpg\n",
      "Before101.jpg\n",
      "Before102.jpg\n",
      "Before103.jpg\n",
      "Before104.jpg\n",
      "Before105.jpg\n",
      "Before106.jpg\n",
      "Before107.jpg\n",
      "Before108.jpg\n",
      "Before109.jpg\n",
      "Before11.jpg\n",
      "Before110.jpg\n",
      "Before111.jpg\n",
      "Before112.jpg\n",
      "Before113.jpg\n",
      "Before114.jpg\n",
      "Before115.jpg\n",
      "Before116.jpg\n",
      "Before117.jpg\n",
      "Before118.jpg\n",
      "Before119.jpg\n",
      "Before12.jpg\n",
      "Before120.jpg\n",
      "Before121.jpg\n",
      "Before122.jpg\n",
      "Before123.jpg\n",
      "Before124.jpg\n",
      "Before125.jpg\n",
      "Before126.jpg\n",
      "Before127.jpg\n",
      "Before128.jpg\n",
      "Before129.jpg\n",
      "Before13.jpg\n",
      "Before130.jpg\n",
      "Before131.jpg\n",
      "Before132.jpg\n",
      "Before133.jpg\n",
      "Before134.jpg\n",
      "Before135.jpg\n",
      "Before136.jpg\n",
      "Before137.jpg\n",
      "Before138.jpg\n",
      "Before139.jpg\n",
      "Before14.jpg\n",
      "Before140.jpg\n",
      "Before141.jpg\n",
      "Before142.jpg\n",
      "Before143.jpg\n",
      "Before144.jpg\n",
      "Before145.jpg\n",
      "Before146.jpg\n",
      "Before147.jpg\n",
      "Before148.jpg\n",
      "Before149.jpg\n",
      "Before15.jpg\n",
      "Before150.jpg\n",
      "Before151.jpg\n",
      "Before152.jpg\n",
      "Before153.jpg\n",
      "Before154.jpg\n",
      "Before155.jpg\n",
      "Before156.jpg\n",
      "Before157.jpg\n",
      "Before158.jpg\n",
      "Before159.jpg\n",
      "Before16.jpg\n",
      "Before160.jpg\n",
      "Before161.jpg\n",
      "Before162.jpg\n",
      "Before163.jpg\n",
      "Before164.jpg\n",
      "Before165.jpg\n",
      "Before166.jpg\n",
      "Before167.jpg\n",
      "Before168.jpg\n",
      "Before169.jpg\n",
      "Before17.jpg\n",
      "Before170.jpg\n",
      "Before171.jpg\n",
      "Before172.jpg\n",
      "Before173.jpg\n",
      "Before174.jpg\n",
      "Before175.jpg\n",
      "Before176.jpg\n",
      "Before177.jpg\n",
      "Before178.jpg\n",
      "Before179.jpg\n",
      "Before18.jpg\n",
      "Before180.jpg\n",
      "Before181.jpg\n",
      "Before182.jpg\n",
      "Before183.jpg\n",
      "Before184.jpg\n",
      "Before185.jpg\n",
      "Before186.jpg\n",
      "Before187.jpg\n",
      "Before188.jpg\n",
      "Before19.jpg\n",
      "Before2.png\n",
      "Before20.jpg\n",
      "Before21.jpg\n",
      "Before22.jpg\n",
      "Before23.jpg\n",
      "Before24.jpg\n",
      "Before25.jpg\n",
      "Before26.jpg\n",
      "Before27.jpg\n",
      "Before28.jpg\n",
      "Before29.jpg\n",
      "Before3.jpg\n",
      "Before30.jpg\n",
      "Before31.jpg\n",
      "Before32.jpg\n",
      "Before33.jpg\n",
      "Before34.jpg\n",
      "Before35.jpg\n",
      "Before36.jpg\n",
      "Before37.jpg\n",
      "Before38.jpg\n",
      "Before39.jpg\n",
      "Before4.jpg\n",
      "Before40.jpg\n",
      "Before41.jpg\n",
      "Before42.jpg\n",
      "Before43.jpg\n",
      "Before44.jpg\n",
      "Before45.jpg\n",
      "Before46.jpg\n",
      "Before47.jpg\n",
      "Before48.jpg\n",
      "Before49.jpg\n",
      "Before5.jpg\n",
      "Before50.jpg\n",
      "Before51.jpg\n",
      "Before52.jpg\n",
      "Before53.jpg\n",
      "Before54.jpg\n",
      "Before55.jpg\n",
      "Before56.jpg\n",
      "Before57.jpg\n",
      "Before58.jpg\n",
      "Before59.jpg\n",
      "Before6.jpg\n",
      "Before60.jpg\n",
      "Before61.jpg\n",
      "Before62.jpg\n",
      "Before63.jpg\n",
      "Before64.jpg\n",
      "Before65.jpg\n",
      "Before66.jpg\n",
      "Before67.jpg\n",
      "Before68.jpg\n",
      "Before69.jpg\n",
      "Before7.jpg\n",
      "Before70.jpg\n",
      "Before71.jpg\n",
      "Before72.jpg\n",
      "Before73.jpg\n",
      "Before74.jpg\n",
      "Before75.jpg\n",
      "Before76.jpg\n",
      "Before77.jpg\n",
      "Before78.jpg\n",
      "Before79.jpg\n",
      "Before8.jpg\n",
      "Before80.jpg\n",
      "Before81.jpg\n",
      "Before82.jpg\n",
      "Before83.jpg\n",
      "Before84.jpg\n",
      "Before85.jpg\n",
      "Before86.jpg\n",
      "Before87.jpg\n",
      "Before88.jpg\n",
      "Before89.jpg\n",
      "Before9.jpg\n",
      "Before90.jpg\n",
      "Before91.jpg\n",
      "Before92.jpg\n",
      "Before93.jpg\n",
      "Before94.jpg\n",
      "Before95.jpg\n",
      "Before96.jpg\n",
      "Before97.jpg\n",
      "Before98.jpg\n",
      "Before99.jpg\n"
     ]
    }
   ],
   "source": [
    "#print os.getcwd()\n",
    "#print os.path.dirname('/Users/okyamatakashi/PyworksShare')\n",
    "\n",
    "name = 'wahaha'\n",
    "if name not in os.listdir('../desktop/') :\n",
    "    os.mkdir('../desktop/'+name)\n",
    "img_list = os.listdir('./DataKeep/Picture/Before')\n",
    "#print img_list\n",
    "for img_name in (img_list): \n",
    "    if '.jpg' in img_name or '.jpeg' in img_name or '.png' in img_name:\n",
    "        print img_name"
   ]
  },
  {
   "cell_type": "code",
   "execution_count": 113,
   "metadata": {
    "collapsed": false
   },
   "outputs": [
    {
     "name": "stdout",
     "output_type": "stream",
     "text": [
      "6\n"
     ]
    }
   ],
   "source": [
    "y = max(5,6)\n",
    "print y"
   ]
  },
  {
   "cell_type": "code",
   "execution_count": 118,
   "metadata": {
    "collapsed": false
   },
   "outputs": [
    {
     "name": "stdout",
     "output_type": "stream",
     "text": [
      "['chinko', 'unko', 'chink']\n"
     ]
    }
   ],
   "source": [
    "a = ['chinko','unko']\n",
    "b = 'chink'\n",
    "if b not in a:\n",
    "    a.append(b)\n",
    "print a"
   ]
  },
  {
   "cell_type": "code",
   "execution_count": 11,
   "metadata": {
    "collapsed": false
   },
   "outputs": [],
   "source": [
    "import pickle\n",
    "#fo = open(f, 'rb')\n",
    "#d = cPickle.load(fo)\n",
    "#fo.close()\n",
    "\n",
    "a = ((np.arange(24)+1).reshape(2,4,3))\n",
    "\n",
    "filename = 'unko.dump'\n",
    "Hozondir = 'chinko'\n",
    "if Hozondir not in os.listdir('./DataKeep/') :\n",
    "    os.mkdir('./DataKeep/'+Hozondir)\n",
    "\n",
    "fo = open('./DataKeep/'+Hozondir+'/'+filename,'w')\n",
    "\n",
    "pickle.dump(a, fo)\n",
    "\n",
    "fo.flush()\n",
    "fo.close()\n",
    "\n"
   ]
  },
  {
   "cell_type": "code",
   "execution_count": 13,
   "metadata": {
    "collapsed": false
   },
   "outputs": [
    {
     "name": "stdout",
     "output_type": "stream",
     "text": [
      "[[[ 1  2  3]\n",
      "  [ 4  5  6]\n",
      "  [ 7  8  9]\n",
      "  [10 11 12]]\n",
      "\n",
      " [[13 14 15]\n",
      "  [16 17 18]\n",
      "  [19 20 21]\n",
      "  [22 23 24]]]\n"
     ]
    }
   ],
   "source": [
    "fo = open('./DataKeep/'+Hozondir+'/'+filename,'r')\n",
    "# ファイルオブジェクトに対してload()を使う\n",
    "b = pickle.load(fo)\n",
    "print b"
   ]
  },
  {
   "cell_type": "code",
   "execution_count": 27,
   "metadata": {
    "collapsed": false
   },
   "outputs": [
    {
     "name": "stdout",
     "output_type": "stream",
     "text": [
      "0\n",
      "['NotFat1.jpg', 'NotFat10.jpg', 'NotFat102.jpg', 'NotFat104.jpg', 'NotFat107.jpg', 'NotFat11.jpg', 'NotFat112.jpg', 'NotFat114.jpg', 'NotFat115.jpg', 'NotFat119.jpg']\n",
      "['NotFat268.jpg', 'NotFat213.jpg', 'NotFat40.jpg', 'NotFat52.JPG', 'NotFat325.jpg', 'NotFat160.jpg', 'NotFat4.jpg', 'NotFat151.jpg', 'NotFat60.jpg', 'NotFat345.jpg']\n"
     ]
    }
   ],
   "source": [
    "import random\n",
    "list_a = [\"aaa\",\"bbb\",\"ccc\"]\n",
    "x = list_a.index(\"aaa\")\n",
    "print x\n",
    "\n",
    "img_list = os.listdir('./DataKeep/Picture/NotFat/')\n",
    "print img_list[0:10]\n",
    "random.shuffle(img_list)\n",
    "print img_list[0:10]"
   ]
  },
  {
   "cell_type": "code",
   "execution_count": 5,
   "metadata": {
    "collapsed": false
   },
   "outputs": [
    {
     "name": "stdout",
     "output_type": "stream",
     "text": [
      "数字を入力\n",
      "0->フォルダを指定\n",
      "1->コードの中のフォルダを使う\n",
      ">>>0\n",
      "folder_list\n",
      ">>> Charhan\n",
      "['Charhan']\n"
     ]
    }
   ],
   "source": [
    "#inputは数字のみ\n",
    "n = input(u'数字を入力\\n0->フォルダを指定\\n1->コードの中のフォルダを使う\\n>>>')\n",
    "#raw_inputはなんでもありで文字型として受け取る\n",
    "if n == 0:\n",
    "    folder_list = raw_input(u'folder_list\\n>>> ').split()\n",
    "    print folder_list "
   ]
  },
  {
   "cell_type": "code",
   "execution_count": 7,
   "metadata": {
    "collapsed": false
   },
   "outputs": [
    {
     "name": "stdout",
     "output_type": "stream",
     "text": [
      "['dumpFatNotFatmizumasi77']\n"
     ]
    }
   ],
   "source": [
    "a = os.listdir('../imgNNdata')\n",
    "print a"
   ]
  },
  {
   "cell_type": "code",
   "execution_count": null,
   "metadata": {
    "collapsed": true
   },
   "outputs": [],
   "source": []
  },
  {
   "cell_type": "code",
   "execution_count": null,
   "metadata": {
    "collapsed": true
   },
   "outputs": [],
   "source": []
  }
 ],
 "metadata": {
  "kernelspec": {
   "display_name": "Python [Root]",
   "language": "python",
   "name": "Python [Root]"
  },
  "language_info": {
   "codemirror_mode": {
    "name": "ipython",
    "version": 2
   },
   "file_extension": ".py",
   "mimetype": "text/x-python",
   "name": "python",
   "nbconvert_exporter": "python",
   "pygments_lexer": "ipython2",
   "version": "2.7.12"
  }
 },
 "nbformat": 4,
 "nbformat_minor": 0
}
